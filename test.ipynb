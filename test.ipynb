{
 "cells": [
  {
   "cell_type": "code",
   "execution_count": 9,
   "metadata": {},
   "outputs": [
    {
     "name": "stdout",
     "output_type": "stream",
     "text": [
      "a = 5 * (3 * 2)\n",
      "b = 10 / (7 / 2)\n"
     ]
    }
   ],
   "source": [
    "import ast\n",
    "import astor\n",
    "import random\n",
    "\n",
    "def change_math_operators(code_snippet):\n",
    "    # Define possible math operators\n",
    "    operators = {\n",
    "        ast.Add: [ast.Sub, ast.Mult, ast.Div],\n",
    "        ast.Sub: [ast.Add, ast.Mult, ast.Div],\n",
    "        ast.Mult: [ast.Add, ast.Sub, ast.Div],\n",
    "        ast.Div: [ast.Add, ast.Sub, ast.Mult]\n",
    "    }\n",
    "    \n",
    "    # Parse code snippet into AST\n",
    "    tree = ast.parse(code_snippet)\n",
    "    change_made = False  # Flag to ensure at least one change is made\n",
    "    \n",
    "    class ChangeMathOperators(ast.NodeTransformer):\n",
    "        def visit_BinOp(self, node):\n",
    "            nonlocal change_made\n",
    "            # Check if the operation is a math operation\n",
    "            if type(node.op) in operators:\n",
    "                # Randomly decide whether to change this operator\n",
    "                if random.choice([True, False]) or not change_made:\n",
    "                    # Choose a different operator\n",
    "                    new_op = random.choice(operators[type(node.op)])\n",
    "                    node.op = new_op()\n",
    "                    change_made = True  # Mark that a change has been made\n",
    "            return self.generic_visit(node)\n",
    "    \n",
    "    # Continue applying transformations until at least one change is made\n",
    "    while not change_made:\n",
    "        transformer = ChangeMathOperators()\n",
    "        tree = transformer.visit(tree)\n",
    "    \n",
    "    # Convert AST back to source code\n",
    "    new_code_snippet = astor.to_source(tree).strip()\n",
    "    \n",
    "    return new_code_snippet\n",
    "\n",
    "# Example usage\n",
    "code_snippet = \"\"\"\n",
    "a = 5 + 3 * 2\n",
    "b = 10 - 7 / 2\n",
    "\"\"\"\n",
    "\n",
    "transformed_code = change_math_operators(code_snippet)\n",
    "print(transformed_code)\n"
   ]
  }
 ],
 "metadata": {
  "kernelspec": {
   "display_name": "main",
   "language": "python",
   "name": "python3"
  },
  "language_info": {
   "codemirror_mode": {
    "name": "ipython",
    "version": 3
   },
   "file_extension": ".py",
   "mimetype": "text/x-python",
   "name": "python",
   "nbconvert_exporter": "python",
   "pygments_lexer": "ipython3",
   "version": "3.12.4"
  }
 },
 "nbformat": 4,
 "nbformat_minor": 2
}
