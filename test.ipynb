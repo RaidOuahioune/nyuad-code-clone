{
 "cells": [
  {
   "cell_type": "code",
   "execution_count": 3,
   "metadata": {},
   "outputs": [
    {
     "name": "stdout",
     "output_type": "stream",
     "text": [
      "<class 'str'>\n"
     ]
    },
    {
     "ename": "TypeError",
     "evalue": "compile() arg 1 must be a string, bytes or AST object",
     "output_type": "error",
     "traceback": [
      "\u001b[0;31m---------------------------------------------------------------------------\u001b[0m",
      "\u001b[0;31mTypeError\u001b[0m                                 Traceback (most recent call last)",
      "Cell \u001b[0;32mIn[3], line 42\u001b[0m\n\u001b[1;32m     34\u001b[0m     \u001b[38;5;28;01mreturn\u001b[39;00m astor\u001b[38;5;241m.\u001b[39mto_source(transformed_tree)\n\u001b[1;32m     35\u001b[0m code_snippet \u001b[38;5;241m=\u001b[39m \u001b[38;5;124m\"\"\"\u001b[39m\n\u001b[1;32m     36\u001b[0m \u001b[38;5;124m__ba_ = 80\u001b[39m\n\u001b[1;32m     37\u001b[0m \u001b[38;5;124ma = 5 * e\u001b[39m\n\u001b[1;32m     38\u001b[0m \u001b[38;5;124mif not __ba_ != 7:\u001b[39m\n\u001b[1;32m     39\u001b[0m \u001b[38;5;124m    print(__ba_ - __ba_)\u001b[39m\n\u001b[1;32m     40\u001b[0m \u001b[38;5;124m\"\"\"\u001b[39m\n\u001b[0;32m---> 42\u001b[0m transformed_code \u001b[38;5;241m=\u001b[39m \u001b[43malter_original_if_block_code\u001b[49m\u001b[43m(\u001b[49m\u001b[43mcode_snippet\u001b[49m\u001b[43m)\u001b[49m\n\u001b[1;32m     43\u001b[0m \u001b[38;5;28mprint\u001b[39m(transformed_code)\n",
      "Cell \u001b[0;32mIn[3], line 32\u001b[0m, in \u001b[0;36malter_original_if_block_code\u001b[0;34m(code)\u001b[0m\n\u001b[1;32m     30\u001b[0m \u001b[38;5;66;03m# Apply the transformation\u001b[39;00m\n\u001b[1;32m     31\u001b[0m transformer \u001b[38;5;241m=\u001b[39m IfTransformer()\n\u001b[0;32m---> 32\u001b[0m transformed_tree \u001b[38;5;241m=\u001b[39m \u001b[43mtransformer\u001b[49m\u001b[38;5;241;43m.\u001b[39;49m\u001b[43mvisit\u001b[49m\u001b[43m(\u001b[49m\u001b[43mtree\u001b[49m\u001b[43m)\u001b[49m\n\u001b[1;32m     33\u001b[0m \u001b[38;5;66;03m# Convert the AST back to code\u001b[39;00m\n\u001b[1;32m     34\u001b[0m \u001b[38;5;28;01mreturn\u001b[39;00m astor\u001b[38;5;241m.\u001b[39mto_source(transformed_tree)\n",
      "File \u001b[0;32m~/miniconda3/envs/main/lib/python3.12/ast.py:407\u001b[0m, in \u001b[0;36mNodeVisitor.visit\u001b[0;34m(self, node)\u001b[0m\n\u001b[1;32m    405\u001b[0m method \u001b[38;5;241m=\u001b[39m \u001b[38;5;124m'\u001b[39m\u001b[38;5;124mvisit_\u001b[39m\u001b[38;5;124m'\u001b[39m \u001b[38;5;241m+\u001b[39m node\u001b[38;5;241m.\u001b[39m\u001b[38;5;18m__class__\u001b[39m\u001b[38;5;241m.\u001b[39m\u001b[38;5;18m__name__\u001b[39m\n\u001b[1;32m    406\u001b[0m visitor \u001b[38;5;241m=\u001b[39m \u001b[38;5;28mgetattr\u001b[39m(\u001b[38;5;28mself\u001b[39m, method, \u001b[38;5;28mself\u001b[39m\u001b[38;5;241m.\u001b[39mgeneric_visit)\n\u001b[0;32m--> 407\u001b[0m \u001b[38;5;28;01mreturn\u001b[39;00m \u001b[43mvisitor\u001b[49m\u001b[43m(\u001b[49m\u001b[43mnode\u001b[49m\u001b[43m)\u001b[49m\n",
      "File \u001b[0;32m~/miniconda3/envs/main/lib/python3.12/ast.py:483\u001b[0m, in \u001b[0;36mNodeTransformer.generic_visit\u001b[0;34m(self, node)\u001b[0m\n\u001b[1;32m    481\u001b[0m \u001b[38;5;28;01mfor\u001b[39;00m value \u001b[38;5;129;01min\u001b[39;00m old_value:\n\u001b[1;32m    482\u001b[0m     \u001b[38;5;28;01mif\u001b[39;00m \u001b[38;5;28misinstance\u001b[39m(value, AST):\n\u001b[0;32m--> 483\u001b[0m         value \u001b[38;5;241m=\u001b[39m \u001b[38;5;28;43mself\u001b[39;49m\u001b[38;5;241;43m.\u001b[39;49m\u001b[43mvisit\u001b[49m\u001b[43m(\u001b[49m\u001b[43mvalue\u001b[49m\u001b[43m)\u001b[49m\n\u001b[1;32m    484\u001b[0m         \u001b[38;5;28;01mif\u001b[39;00m value \u001b[38;5;129;01mis\u001b[39;00m \u001b[38;5;28;01mNone\u001b[39;00m:\n\u001b[1;32m    485\u001b[0m             \u001b[38;5;28;01mcontinue\u001b[39;00m\n",
      "File \u001b[0;32m~/miniconda3/envs/main/lib/python3.12/ast.py:407\u001b[0m, in \u001b[0;36mNodeVisitor.visit\u001b[0;34m(self, node)\u001b[0m\n\u001b[1;32m    405\u001b[0m method \u001b[38;5;241m=\u001b[39m \u001b[38;5;124m'\u001b[39m\u001b[38;5;124mvisit_\u001b[39m\u001b[38;5;124m'\u001b[39m \u001b[38;5;241m+\u001b[39m node\u001b[38;5;241m.\u001b[39m\u001b[38;5;18m__class__\u001b[39m\u001b[38;5;241m.\u001b[39m\u001b[38;5;18m__name__\u001b[39m\n\u001b[1;32m    406\u001b[0m visitor \u001b[38;5;241m=\u001b[39m \u001b[38;5;28mgetattr\u001b[39m(\u001b[38;5;28mself\u001b[39m, method, \u001b[38;5;28mself\u001b[39m\u001b[38;5;241m.\u001b[39mgeneric_visit)\n\u001b[0;32m--> 407\u001b[0m \u001b[38;5;28;01mreturn\u001b[39;00m \u001b[43mvisitor\u001b[49m\u001b[43m(\u001b[49m\u001b[43mnode\u001b[49m\u001b[43m)\u001b[49m\n",
      "Cell \u001b[0;32mIn[3], line 22\u001b[0m, in \u001b[0;36mIfTransformer.visit_If\u001b[0;34m(self, node)\u001b[0m\n\u001b[1;32m     19\u001b[0m         node\u001b[38;5;241m.\u001b[39morelse \u001b[38;5;241m=\u001b[39m ast\u001b[38;5;241m.\u001b[39mparse(random_code)\u001b[38;5;241m.\u001b[39mbody\n\u001b[1;32m     20\u001b[0m \u001b[38;5;28;01melse\u001b[39;00m:\n\u001b[1;32m     21\u001b[0m     \u001b[38;5;66;03m# Remove the entire if statement\u001b[39;00m\n\u001b[0;32m---> 22\u001b[0m     node\u001b[38;5;241m.\u001b[39mbody\u001b[38;5;241m=\u001b[39m\u001b[43mast\u001b[49m\u001b[38;5;241;43m.\u001b[39;49m\u001b[43mparse\u001b[49m\u001b[43m(\u001b[49m\u001b[43mCodeGenerator\u001b[49m\u001b[43m(\u001b[49m\u001b[43m)\u001b[49m\u001b[38;5;241;43m.\u001b[39;49m\u001b[43mgenerate_program\u001b[49m\u001b[43m(\u001b[49m\u001b[43mrandom\u001b[49m\u001b[38;5;241;43m.\u001b[39;49m\u001b[43mchoice\u001b[49m\u001b[43m(\u001b[49m\u001b[43mLEVELS\u001b[49m\u001b[43m)\u001b[49m\u001b[43m)\u001b[49m\u001b[43m)\u001b[49m\u001b[38;5;241m.\u001b[39mbody\n\u001b[1;32m     24\u001b[0m \u001b[38;5;28;01mreturn\u001b[39;00m node\n",
      "File \u001b[0;32m~/miniconda3/envs/main/lib/python3.12/ast.py:52\u001b[0m, in \u001b[0;36mparse\u001b[0;34m(source, filename, mode, type_comments, feature_version)\u001b[0m\n\u001b[1;32m     50\u001b[0m     feature_version \u001b[38;5;241m=\u001b[39m minor\n\u001b[1;32m     51\u001b[0m \u001b[38;5;66;03m# Else it should be an int giving the minor version for 3.x.\u001b[39;00m\n\u001b[0;32m---> 52\u001b[0m \u001b[38;5;28;01mreturn\u001b[39;00m \u001b[38;5;28;43mcompile\u001b[39;49m\u001b[43m(\u001b[49m\u001b[43msource\u001b[49m\u001b[43m,\u001b[49m\u001b[43m \u001b[49m\u001b[43mfilename\u001b[49m\u001b[43m,\u001b[49m\u001b[43m \u001b[49m\u001b[43mmode\u001b[49m\u001b[43m,\u001b[49m\u001b[43m \u001b[49m\u001b[43mflags\u001b[49m\u001b[43m,\u001b[49m\n\u001b[1;32m     53\u001b[0m \u001b[43m               \u001b[49m\u001b[43m_feature_version\u001b[49m\u001b[38;5;241;43m=\u001b[39;49m\u001b[43mfeature_version\u001b[49m\u001b[43m)\u001b[49m\n",
      "\u001b[0;31mTypeError\u001b[0m: compile() arg 1 must be a string, bytes or AST object"
     ]
    }
   ],
   "source": [
    "import ast\n",
    "import astor\n",
    "import random\n",
    "from tinypy_generator import CodeGenerator\n",
    "\n",
    "LEVELS = [\"1.1\", \"1.2\", \"2.1\", \"2.2\", \"3.1\", \"3.2\"]\n",
    "\n",
    "class IfTransformer(ast.NodeTransformer):\n",
    "    def __init__(self):\n",
    "        pass\n",
    "    \n",
    "    def visit_If(self, node):\n",
    "        # Randomly decide to keep or remove the if/elif/else statement\n",
    "        if random.choice([True, False]):\n",
    "            # Replace the code block with a random code snippet\n",
    "            if node.body:\n",
    "                root, random_code = CodeGenerator().generate_program(random.choice(LEVELS))\n",
    "                node.body = ast.parse(random_code).body\n",
    "            if node.orelse:\n",
    "                root, random_code = CodeGenerator().generate_program(random.choice(LEVELS))\n",
    "                node.orelse = ast.parse(random_code).body\n",
    "        else:\n",
    "            # Remove the entire if statement\n",
    "            root, random_code = CodeGenerator().generate_program(random.choice(LEVELS))\n",
    "            node.body = ast.parse(random_code).body\n",
    "            \n",
    "        return node\n",
    "\n",
    "def alter_original_if_block_code(code):\n",
    "    # Parse the code into an AST\n",
    "    tree = ast.parse(code)\n",
    "    # Apply the transformation\n",
    "    transformer = IfTransformer()\n",
    "    transformed_tree = transformer.visit(tree)\n",
    "    # Convert the AST back to code\n",
    "    return astor.to_source(transformed_tree)\n",
    "\n",
    "# Example usage\n",
    "code_snippet = \"\"\"\n",
    "__ba_ = 80\n",
    "a = 5 * e\n",
    "if not __ba_ != 7:\n",
    "    print(__ba_ - __ba_)\n",
    "\"\"\"\n",
    "\n",
    "transformed_code = alter_original_if_block_code(code_snippet)\n",
    "print(transformed_code)\n"
   ]
  }
 ],
 "metadata": {
  "kernelspec": {
   "display_name": "main",
   "language": "python",
   "name": "python3"
  },
  "language_info": {
   "codemirror_mode": {
    "name": "ipython",
    "version": 3
   },
   "file_extension": ".py",
   "mimetype": "text/x-python",
   "name": "python",
   "nbconvert_exporter": "python",
   "pygments_lexer": "ipython3",
   "version": "3.12.4"
  }
 },
 "nbformat": 4,
 "nbformat_minor": 2
}
